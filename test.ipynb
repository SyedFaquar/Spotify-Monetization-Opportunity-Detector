{
 "cells": [
  {
   "cell_type": "code",
   "execution_count": 1,
   "metadata": {},
   "outputs": [],
   "source": [
    "import spotipy\n",
    "from spotipy.oauth2 import SpotifyClientCredentials\n",
    "import pandas as pd\n",
    "from datetime import datetime\n",
    "import logging\n",
    "import json\n",
    "from config import SPOTIFY_CONFIG"
   ]
  },
  {
   "cell_type": "code",
   "execution_count": 2,
   "metadata": {},
   "outputs": [],
   "source": [
    "def extract_show_id(url):\n",
    "    \"\"\"Extract show ID from Spotify URL\"\"\"\n",
    "    return url.split('show/')[-1].split('?')[0]"
   ]
  },
  {
   "cell_type": "code",
   "execution_count": 4,
   "metadata": {},
   "outputs": [
    {
     "name": "stdout",
     "output_type": "stream",
     "text": [
      "\n",
      "Verifying Show IDs:\n",
      "--------------------------------------------------\n",
      "✅ Valid: The LOL Podcast\n",
      "   ID: 6E1u3kxII5CbbFR4VObax4\n",
      "   Publisher: Cash, Maverick, Kate, Harper, Kenzie\n",
      "   Episodes: 147\n",
      "--------------------------------------------------\n",
      "✅ Valid: TED Talks Daily\n",
      "   ID: 1VXcH8QHkjRcTCEd88U3ti\n",
      "   Publisher: TED\n",
      "   Episodes: 2261\n",
      "--------------------------------------------------\n",
      "✅ Valid: Murder: True Crime Stories\n",
      "   ID: 4fsW5D9rKYycsP2hgKtvCk\n",
      "   Publisher: Crime House\n",
      "   Episodes: 41\n",
      "--------------------------------------------------\n",
      "✅ Valid: Conspiracy Theories\n",
      "   ID: 5RdShpOtxKO3ZWohR2M6Sv\n",
      "   Publisher: Spotify Studios\n",
      "   Episodes: 500\n",
      "--------------------------------------------------\n",
      "✅ Valid: Stuff You Should Know\n",
      "   ID: 0ofXAdFIQQRsCYj9754UFx\n",
      "   Publisher: iHeartPodcasts\n",
      "   Episodes: 2472\n",
      "--------------------------------------------------\n",
      "✅ Valid: The Joe Rogan Experience\n",
      "   ID: 4rOoJ6Egrf8K2IrywzwOMk\n",
      "   Publisher: Joe Rogan\n",
      "   Episodes: 2428\n",
      "--------------------------------------------------\n",
      "✅ Valid: Bad Friends\n",
      "   ID: 3gaGfrqgnVqUBNDdtv5p3S\n",
      "   Publisher: Bobby Lee & Andrew Santino\n",
      "   Episodes: 258\n",
      "--------------------------------------------------\n",
      "✅ Valid: Psychology Unplugged\n",
      "   ID: 7wkYuqWC8z51nfetiZCTbT\n",
      "   Publisher: Dr. Corey J. Nigro\n",
      "   Episodes: 209\n",
      "--------------------------------------------------\n",
      "✅ Valid: The Psychology of your 20s\n",
      "   ID: 2HGcJRYrjGnpce6bRp8UXm\n",
      "   Publisher: iHeartPodcasts\n",
      "   Episodes: 259\n",
      "--------------------------------------------------\n",
      "✅ Valid: anything goes with emma chamberlain\n",
      "   ID: 5VzFvh1JlEhBMS6ZHZ8CNO\n",
      "   Publisher: emma chamberlain\n",
      "   Episodes: 339\n",
      "--------------------------------------------------\n",
      "\n",
      "Total valid shows: 10\n",
      "\n",
      "Valid Show IDs to use in pipeline:\n",
      "['6E1u3kxII5CbbFR4VObax4', '1VXcH8QHkjRcTCEd88U3ti', '4fsW5D9rKYycsP2hgKtvCk', '5RdShpOtxKO3ZWohR2M6Sv', '0ofXAdFIQQRsCYj9754UFx', '4rOoJ6Egrf8K2IrywzwOMk', '3gaGfrqgnVqUBNDdtv5p3S', '7wkYuqWC8z51nfetiZCTbT', '2HGcJRYrjGnpce6bRp8UXm', '5VzFvh1JlEhBMS6ZHZ8CNO']\n"
     ]
    },
    {
     "data": {
      "text/plain": [
       "['6E1u3kxII5CbbFR4VObax4',\n",
       " '1VXcH8QHkjRcTCEd88U3ti',\n",
       " '4fsW5D9rKYycsP2hgKtvCk',\n",
       " '5RdShpOtxKO3ZWohR2M6Sv',\n",
       " '0ofXAdFIQQRsCYj9754UFx',\n",
       " '4rOoJ6Egrf8K2IrywzwOMk',\n",
       " '3gaGfrqgnVqUBNDdtv5p3S',\n",
       " '7wkYuqWC8z51nfetiZCTbT',\n",
       " '2HGcJRYrjGnpce6bRp8UXm',\n",
       " '5VzFvh1JlEhBMS6ZHZ8CNO']"
      ]
     },
     "execution_count": 4,
     "metadata": {},
     "output_type": "execute_result"
    }
   ],
   "source": [
    "def verify_show_ids():\n",
    "    # Initialize Spotify client\n",
    "    auth_manager = SpotifyClientCredentials(\n",
    "        client_id=SPOTIFY_CONFIG['client_id'],\n",
    "        client_secret=SPOTIFY_CONFIG['client_secret']\n",
    "    )\n",
    "    sp = spotipy.Spotify(auth_manager=auth_manager)\n",
    "    \n",
    "    show_ids = [\n",
    "        \"6E1u3kxII5CbbFR4VObax4\", \n",
    "        \"1VXcH8QHkjRcTCEd88U3ti\",\n",
    "        \"4fsW5D9rKYycsP2hgKtvCk\",\n",
    "        \"5RdShpOtxKO3ZWohR2M6Sv\",\n",
    "        \"0ofXAdFIQQRsCYj9754UFx\",\n",
    "        \"4rOoJ6Egrf8K2IrywzwOMk\",\n",
    "        \"3gaGfrqgnVqUBNDdtv5p3S\",\n",
    "        \"7wkYuqWC8z51nfetiZCTbT\",\n",
    "        \"2HGcJRYrjGnpce6bRp8UXm\",\n",
    "        \"5VzFvh1JlEhBMS6ZHZ8CNO\"\n",
    "    ]\n",
    "    \n",
    "    valid_shows = []\n",
    "    print(\"\\nVerifying Show IDs:\")\n",
    "    print(\"-\" * 50)\n",
    "    \n",
    "    for show_id in show_ids:\n",
    "        try:\n",
    "            show = sp.show(show_id)\n",
    "            print(f\"✅ Valid: {show['name']}\")\n",
    "            print(f\"   ID: {show_id}\")\n",
    "            print(f\"   Publisher: {show['publisher']}\")\n",
    "            print(f\"   Episodes: {show['total_episodes']}\")\n",
    "            print(\"-\" * 50)\n",
    "            valid_shows.append(show_id)\n",
    "        except Exception as e:\n",
    "            print(f\"❌ Invalid: {show_id}\")\n",
    "            print(f\"   Error: {str(e)}\")\n",
    "            print(\"-\" * 50)\n",
    "    \n",
    "    print(f\"\\nTotal valid shows: {len(valid_shows)}\")\n",
    "    print(\"\\nValid Show IDs to use in pipeline:\")\n",
    "    print(valid_shows)\n",
    "    return valid_shows\n",
    "\n",
    "verify_show_ids()"
   ]
  },
  {
   "cell_type": "code",
   "execution_count": null,
   "metadata": {},
   "outputs": [],
   "source": []
  }
 ],
 "metadata": {
  "kernelspec": {
   "display_name": "spotify",
   "language": "python",
   "name": "python3"
  },
  "language_info": {
   "codemirror_mode": {
    "name": "ipython",
    "version": 3
   },
   "file_extension": ".py",
   "mimetype": "text/x-python",
   "name": "python",
   "nbconvert_exporter": "python",
   "pygments_lexer": "ipython3",
   "version": "3.9.21"
  }
 },
 "nbformat": 4,
 "nbformat_minor": 2
}
